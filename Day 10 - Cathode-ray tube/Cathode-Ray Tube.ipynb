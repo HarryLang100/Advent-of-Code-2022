{
 "cells": [
  {
   "cell_type": "markdown",
   "id": "867b5086",
   "metadata": {},
   "source": [
    "# Day 10: Cathode-Ray Tube\n",
    "\n",
    "## Part 1\n",
    "\n",
    "ou avoid the ropes, plunge into the river, and swim to shore.\n",
    "\n",
    "The Elves yell something about meeting back up with them upriver, but the river is too loud to tell exactly what they're saying. They finish crossing the bridge and disappear from view.\n",
    "\n",
    "Situations like this must be why the Elves prioritized getting the communication system on your handheld device working. You pull it out of your pack, but the amount of water slowly draining from a big crack in its screen tells you it probably won't be of much immediate use.\n",
    "\n",
    "Unless, that is, you can design a replacement for the device's video system! It seems to be some kind of cathode-ray tube screen and simple CPU that are both driven by a precise clock circuit. The clock circuit ticks at a constant rate; each tick is called a cycle.\n",
    "\n",
    "Start by figuring out the signal being sent by the CPU. The CPU has a single register, X, which starts with the value 1. It supports only two instructions:\n",
    "\n",
    "addx V takes two cycles to complete. After two cycles, the X register is increased by the value V. (V can be negative.)\n",
    "noop takes one cycle to complete. It has no other effect.\n",
    "The CPU uses these instructions in a program (your puzzle input) to, somehow, tell the screen what to draw.\n",
    "\n",
    "Consider the following small program:\n",
    "```\n",
    "noop\n",
    "addx 3\n",
    "addx -5\n",
    "```\n",
    "Execution of this program proceeds as follows:\n",
    "\n",
    "At the start of the first cycle, the noop instruction begins execution. During the first cycle, X is 1. After the first cycle, the noop instruction finishes execution, doing nothing.\n",
    "At the start of the second cycle, the addx 3 instruction begins execution. During the second cycle, X is still 1.\n",
    "During the third cycle, X is still 1. After the third cycle, the addx 3 instruction finishes execution, setting X to 4.\n",
    "At the start of the fourth cycle, the addx -5 instruction begins execution. During the fourth cycle, X is still 4.\n",
    "During the fifth cycle, X is still 4. After the fifth cycle, the addx -5 instruction finishes execution, setting X to -1.\n",
    "Maybe you can learn something by looking at the value of the X register throughout execution. For now, consider the signal strength (the cycle number multiplied by the value of the X register) during the 20th cycle and every 40 cycles after that (that is, during the 20th, 60th, 100th, 140th, 180th, and 220th cycles).\n",
    "\n",
    "For example, consider this larger program: (Omitted to save space but viewable here: https://adventofcode.com/2022/day/10.)\n",
    "\n",
    "The interesting signal strengths can be determined as follows:\n",
    "\n",
    "During the 20th cycle, register X has the value 21, so the signal strength is 20 * 21 = 420. (The 20th cycle occurs in the middle of the second addx -1, so the value of register X is the starting value, 1, plus all of the other addx values up to that point: 1 + 15 - 11 + 6 - 3 + 5 - 1 - 8 + 13 + 4 = 21.)\n",
    "During the 60th cycle, register X has the value 19, so the signal strength is 60 * 19 = 1140.\n",
    "During the 100th cycle, register X has the value 18, so the signal strength is 100 * 18 = 1800.\n",
    "During the 140th cycle, register X has the value 21, so the signal strength is 140 * 21 = 2940.\n",
    "During the 180th cycle, register X has the value 16, so the signal strength is 180 * 16 = 2880.\n",
    "During the 220th cycle, register X has the value 18, so the signal strength is 220 * 18 = 3960.\n",
    "The sum of these signal strengths is 13140.\n",
    "\n",
    "Find the signal strength during the 20th, 60th, 100th, 140th, 180th, and 220th cycles. What is the sum of these six signal strengths?"
   ]
  },
  {
   "cell_type": "code",
   "execution_count": 2,
   "id": "60d6956b",
   "metadata": {},
   "outputs": [
    {
     "name": "stdout",
     "output_type": "stream",
     "text": [
      "Sum of signal strengths: 11720.\n"
     ]
    }
   ],
   "source": [
    "import inspect\n",
    "\n",
    "def parse_input(filename):\n",
    "    instructions = []\n",
    "    with open(filename) as file:\n",
    "        lines = file.read().splitlines()\n",
    "    for line in lines:\n",
    "        line_split = line.split(\" \")\n",
    "        if line_split[0] == \"noop\":\n",
    "            instructions.append(\"noop\")\n",
    "        elif line_split[0] == \"addx\":\n",
    "            instructions.append([\"addx\", int(line_split[1])])\n",
    "        else:\n",
    "            message = inspect.cleandoc(f\"\"\"\n",
    "                                Invalid instruction: {line_split}\"\"\")\n",
    "            raise Exception(message)\n",
    "    return instructions\n",
    "\n",
    "\n",
    "def execute_instruction(current_X_value, instruction):\n",
    "    X_list_to_return = []\n",
    "    if instruction == \"noop\":\n",
    "        X_list_to_return.append(current_X_value)\n",
    "    elif instruction[0] == \"addx\":\n",
    "        X_list_to_return.append(current_X_value)\n",
    "        X_list_to_return.append(current_X_value + instruction[1])\n",
    "    return X_list_to_return\n",
    "\n",
    "\n",
    "def create_X_list(instructions):\n",
    "    X_history = [1]\n",
    "    for instruction in instructions:\n",
    "        new_X_list = execute_instruction(X_history[-1], instruction)\n",
    "        for X in new_X_list:\n",
    "            X_history.append(X)\n",
    "    return X_history\n",
    "\n",
    "def main(filename):\n",
    "    instructions = parse_input(filename)\n",
    "    X_list = create_X_list(instructions)\n",
    "    running_sum = 0\n",
    "    for index_position in range(19, len(X_list) + 1, 40):\n",
    "        signal_strength = X_list[index_position] * (index_position + 1)\n",
    "        running_sum += signal_strength\n",
    "    return running_sum\n",
    "        \n",
    "\n",
    "#%%\n",
    "if __name__ == \"__main__\":\n",
    "    result = main(\"input.txt\")\n",
    "    print(f\"Sum of signal strengths: {result}.\")"
   ]
  },
  {
   "cell_type": "code",
   "execution_count": 3,
   "id": "559d1230",
   "metadata": {},
   "outputs": [
    {
     "name": "stdout",
     "output_type": "stream",
     "text": [
      "####.###...##..###..####.###...##....##.\n",
      "#....#..#.#..#.#..#.#....#..#.#..#....#.\n",
      "###..#..#.#....#..#.###..#..#.#.......#.\n",
      "#....###..#....###..#....###..#.......#.\n",
      "#....#.#..#..#.#.#..#....#....#..#.#..#.\n",
      "####.#..#..##..#..#.####.#.....##...##..\n",
      "\n"
     ]
    }
   ],
   "source": [
    "def get_sprite_position(middle):\n",
    "    message = inspect.cleandoc(f\"\"\"\n",
    "                               middle must be of type {type(0)}, not of type\n",
    "                               {type(middle)}\"\"\")\n",
    "    assert isinstance(middle, int), message\n",
    "    return [middle - 1, middle, middle + 1]\n",
    "\n",
    "def get_image(X_list):\n",
    "    to_print = \"\"\n",
    "    for pixel_column in range(6): # CRT is 6 high.\n",
    "        for pixel_row in range(40): # CTR is 40 wide.\n",
    "            pixel_index = 40 * pixel_column + pixel_row\n",
    "            sprite_position = get_sprite_position(X_list[pixel_index])\n",
    "            if pixel_row in sprite_position:\n",
    "                to_print += \"#\"\n",
    "            else:\n",
    "                    to_print += \".\"\n",
    "        if pixel_column != 6:\n",
    "            to_print += \"\\n\"\n",
    "    return to_print\n",
    "\n",
    "if __name__ == \"__main__\":\n",
    "    X_list = create_X_list(parse_input(\"input.txt\"))\n",
    "    print(get_image(X_list))"
   ]
  },
  {
   "cell_type": "markdown",
   "id": "eb5ed7df",
   "metadata": {},
   "source": [
    "> I read ERCREPCJ."
   ]
  }
 ],
 "metadata": {
  "kernelspec": {
   "display_name": "Python 3 (ipykernel)",
   "language": "python",
   "name": "python3"
  },
  "language_info": {
   "codemirror_mode": {
    "name": "ipython",
    "version": 3
   },
   "file_extension": ".py",
   "mimetype": "text/x-python",
   "name": "python",
   "nbconvert_exporter": "python",
   "pygments_lexer": "ipython3",
   "version": "3.9.13"
  }
 },
 "nbformat": 4,
 "nbformat_minor": 5
}
