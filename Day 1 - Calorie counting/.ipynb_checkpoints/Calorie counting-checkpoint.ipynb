{
 "cells": [
  {
   "cell_type": "markdown",
   "id": "6ec79000",
   "metadata": {},
   "source": [
    "# Day 1 - Calorie counting\n",
    "\n",
    "## Part 1\n",
    "\n",
    "Santa's reindeer typically eat regular reindeer food, but they need a lot of magical energy to deliver presents on Christmas. For that, their favorite snack is a special type of star fruit that only grows deep in the jungle. The Elves have brought you on their annual expedition to the grove where the fruit grows.\n",
    "\n",
    "To supply enough magical energy, the expedition needs to retrieve a minimum of fifty stars by December 25th. Although the Elves assure you that the grove has plenty of fruit, you decide to grab any fruit you see along the way, just in case.\n",
    "\n",
    "Collect stars by solving puzzles. Two puzzles will be made available on each day in the Advent calendar; the second puzzle is unlocked when you complete the first. Each puzzle grants one star. Good luck!\n",
    "\n",
    "The jungle must be too overgrown and difficult to navigate in vehicles or access from the air; the Elves' expedition traditionally goes on foot. As your boats approach land, the Elves begin taking inventory of their supplies. One important consideration is food - in particular, the number of Calories each Elf is carrying (your puzzle input).\n",
    "\n",
    "The Elves take turns writing down the number of Calories contained by the various meals, snacks, rations, etc. that they've brought with them, one item per line. Each Elf separates their own inventory from the previous Elf's inventory (if any) by a blank line.\n",
    "\n",
    "For example, suppose the Elves finish writing their items' Calories and end up with the following list:\n",
    "\n",
    "1000\\\n",
    "2000\\\n",
    "3000\n",
    "\n",
    "4000\n",
    "\n",
    "5000\\\n",
    "6000\n",
    "\n",
    "7000\\\n",
    "8000\\\n",
    "9000\n",
    "\n",
    "10000\n",
    "\n",
    "This list represents the Calories of the food carried by five Elves:\n",
    "\n",
    "The first Elf is carrying food with 1000, 2000, and 3000 Calories, a total of 6000 Calories.\n",
    "The second Elf is carrying one food item with 4000 Calories.\n",
    "The third Elf is carrying food with 5000 and 6000 Calories, a total of 11000 Calories.\n",
    "The fourth Elf is carrying food with 7000, 8000, and 9000 Calories, a total of 24000 Calories.\n",
    "The fifth Elf is carrying one food item with 10000 Calories.\n",
    "In case the Elves get hungry and need extra snacks, they need to know which Elf to ask: they'd like to know how many Calories are being carried by the Elf carrying the most Calories. In the example above, this is 24000 (carried by the fourth Elf).\n",
    "\n",
    "Find the Elf carrying the most Calories. How many total Calories is that Elf carrying?"
   ]
  },
  {
   "cell_type": "code",
   "execution_count": 6,
   "id": "f2ac473a",
   "metadata": {},
   "outputs": [
    {
     "name": "stdout",
     "output_type": "stream",
     "text": [
      "Result: 70296\n"
     ]
    }
   ],
   "source": [
    "current_sum = 0\n",
    "max_sum = 0\n",
    "\n",
    "with open(\"input.txt\") as input_file:\n",
    "    lines = input_file.readlines()\n",
    "    \n",
    "for current_row in lines:\n",
    "    if current_row.strip() == \"\": # If the line is empty.\n",
    "        current_sum = 0 # Reset the counter.\n",
    "    else:\n",
    "        current_sum += int(current_row.strip()) # Add the current number to\n",
    "        # the count. \n",
    "    if current_sum > max_sum:\n",
    "        max_sum = current_sum\n",
    "\n",
    "print(f\"Result: {max_sum}\")"
   ]
  },
  {
   "cell_type": "markdown",
   "id": "b5c9cfd5",
   "metadata": {},
   "source": [
    "## Part Two\n",
    "\n",
    "By the time you calculate the answer to the Elves' question, they've already realized that the Elf carrying the most Calories of food might eventually run out of snacks.\n",
    "\n",
    "To avoid this unacceptable situation, the Elves would instead like to know the total Calories carried by the top three Elves carrying the most Calories. That way, even if one of those Elves runs out of snacks, they still have two backups.\n",
    "\n",
    "In the example above, the top three Elves are the fourth Elf (with 24000 Calories), then the third Elf (with 11000 Calories), then the fifth Elf (with 10000 Calories). The sum of the Calories carried by these three elves is 45000.\n",
    "\n",
    "Find the top three Elves carrying the most Calories. How many Calories are those Elves carrying in total?"
   ]
  },
  {
   "cell_type": "code",
   "execution_count": 1,
   "id": "ba993475",
   "metadata": {},
   "outputs": [
    {
     "name": "stdout",
     "output_type": "stream",
     "text": [
      "Sum: 205381\n"
     ]
    }
   ],
   "source": [
    "with open(\"input.txt\") as input_file:\n",
    "    lines = input_file.readlines()\n",
    "\n",
    "current_sum = 0\n",
    "results_list = []\n",
    "for current_line in lines:\n",
    "    if current_line.strip() == \"\":\n",
    "        results_list.append(current_sum)\n",
    "        current_sum = 0\n",
    "    else:\n",
    "        current_sum += int(current_line.strip())\n",
    "\n",
    "results_list.sort(reverse=True)\n",
    "top_three_sum = results_list[0] + results_list[1] + results_list[2]\n",
    "print(f\"Sum: {top_three_sum}\")"
   ]
  }
 ],
 "metadata": {
  "kernelspec": {
   "display_name": "Python 3",
   "language": "python",
   "name": "python3"
  },
  "language_info": {
   "codemirror_mode": {
    "name": "ipython",
    "version": 3
   },
   "file_extension": ".py",
   "mimetype": "text/x-python",
   "name": "python",
   "nbconvert_exporter": "python",
   "pygments_lexer": "ipython3",
   "version": "3.8.8"
  }
 },
 "nbformat": 4,
 "nbformat_minor": 5
}
