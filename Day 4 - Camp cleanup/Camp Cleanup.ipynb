{
 "cells": [
  {
   "cell_type": "markdown",
   "id": "cc904094",
   "metadata": {},
   "source": [
    "# Day 4: Camp Cleanup\n",
    "\n",
    "## Part 1\n",
    "\n",
    "Space needs to be cleared before the last supplies can be unloaded from the ships, and so several Elves have been assigned the job of cleaning up sections of the camp. Every section has a unique ID number, and each Elf is assigned a range of section IDs.\n",
    "\n",
    "However, as some of the Elves compare their section assignments with each other, they've noticed that many of the assignments overlap. To try to quickly find overlaps and reduce duplicated effort, the Elves pair up and make a big list of the section assignments for each pair (your puzzle input).\n",
    "\n",
    "For example, consider the following list of section assignment pairs:\n",
    "\n",
    "2-4, 6-8\\\n",
    "2-3, 4-5\\\n",
    "5-7, 7-9\\\n",
    "2-8, 3-7\\\n",
    "6-6, 4-6\\\n",
    "2-6, 4-8\n",
    "\n",
    "For the first few pairs, this list means:\n",
    "\n",
    "Within the first pair of Elves, the first Elf was assigned sections 2-4 (sections 2, 3, and 4), while the second Elf was assigned sections 6-8 (sections 6, 7, 8).\n",
    "The Elves in the second pair were each assigned two sections.\n",
    "The Elves in the third pair were each assigned three sections: one got sections 5, 6, and 7, while the other also got 7, plus 8 and 9.\n",
    "This example list uses single-digit section IDs to make it easier to draw; your actual list might contain larger numbers. Visually, these pairs of section assignments look like this:\n",
    "\n",
    "\n",
    "```\n",
    ".234.....  2-4\n",
    ".....678.  6-8\n",
    "\n",
    ".23......  2-3\n",
    "...45....  4-5\n",
    "\n",
    "....567..  5-7\n",
    "......789  7-9\n",
    "\n",
    ".2345678.  2-8\n",
    "..34567..  3-7\n",
    "\n",
    ".....6...  6-6\n",
    "...456...  4-6\n",
    "\n",
    ".23456...  2-6\n",
    "...45678.  4-8\n",
    "```\n",
    "\n",
    "Some of the pairs have noticed that one of their assignments fully contains the other. For example, 2-8 fully contains 3-7, and 6-6 is fully contained by 4-6. In pairs where one assignment fully contains the other, one Elf in the pair would be exclusively cleaning sections their partner will already be cleaning, so these seem like the most in need of reconsideration. In this example, there are 2 such pairs.\n",
    "\n",
    "In how many assignment pairs does one range fully contain the other?"
   ]
  },
  {
   "cell_type": "code",
   "execution_count": 11,
   "id": "5b350486",
   "metadata": {},
   "outputs": [],
   "source": [
    "def does_assignment_fully_contain(assignment1, assignment2):\n",
    "    \"\"\" Determine whether or not one of the assignments is fully contained in the other.\n",
    "    \n",
    "    Args:\n",
    "        assignment1 (list) : A list of two integers, e.g. [2, 4].\n",
    "        assignment2 (list) : A list of two integers, e.g. [6, 8].\n",
    "        \n",
    "    Returns:\n",
    "        True if one is contained in the other, False otherwise.\n",
    "    \"\"\"\n",
    "    if assignment1[0] <= assignment2[0] and assignment1[1] >= assignment2[1]:\n",
    "        result = True\n",
    "    elif assignment1[0] >= assignment2[0] and assignment1[1] <= assignment2[1]:\n",
    "        result = True\n",
    "    else:\n",
    "        result = False\n",
    "    return result"
   ]
  },
  {
   "cell_type": "code",
   "execution_count": 12,
   "id": "5dd45327",
   "metadata": {},
   "outputs": [],
   "source": [
    "def split_line_to_assignments(line):\n",
    "    \"\"\" Take a line of text and return the two separate assignments.\n",
    "\n",
    "    Args:\n",
    "        line (str) : A string representing a pair of assignments, e.g. [2-4,6-8].\n",
    "\n",
    "    Returns:\n",
    "        A tuple representing the pair of assignments, e.g. ([2, 4], [6, 8]).\n",
    "    \"\"\"\n",
    "    line_as_list = line.split(\",\")    \n",
    "    assignment1 = [eval(num) for num in line_as_list[0].split(\"-\")]\n",
    "    assignment2 = [eval(num) for num in line_as_list[1].split(\"-\")]\n",
    "    return assignment1, assignment2"
   ]
  },
  {
   "cell_type": "code",
   "execution_count": 13,
   "id": "cb4e6b80",
   "metadata": {},
   "outputs": [
    {
     "name": "stdout",
     "output_type": "stream",
     "text": [
      "Count: 466\n"
     ]
    }
   ],
   "source": [
    "with open(\"input.txt\") as file:\n",
    "    lines = file.readlines()\n",
    "\n",
    "count = 0\n",
    "for line in lines:\n",
    "    if does_assignment_fully_contain(*split_line_to_assignments(line)):\n",
    "        count += 1\n",
    "print(f\"Count: {count}\")"
   ]
  },
  {
   "cell_type": "markdown",
   "id": "84cbc4e2",
   "metadata": {},
   "source": [
    "## Part Two\n",
    "\n",
    "It seems like there is still quite a bit of duplicate work planned. Instead, the Elves would like to know the number of pairs that overlap at all.\n",
    "\n",
    "In the above example, the first two pairs (2-4,6-8 and 2-3,4-5) don't overlap, while the remaining four pairs (5-7,7-9, 2-8,3-7, 6-6,4-6, and 2-6,4-8) do overlap:\n",
    "\n",
    "5-7,7-9 overlaps in a single section, 7.\n",
    "2-8,3-7 overlaps all of the sections 3 through 7.\n",
    "6-6,4-6 overlaps in a single section, 6.\n",
    "2-6,4-8 overlaps in sections 4, 5, and 6.\n",
    "So, in this example, the number of overlapping assignment pairs is 4.\n",
    "\n",
    "In how many assignment pairs do the ranges overlap?"
   ]
  },
  {
   "cell_type": "code",
   "execution_count": 14,
   "id": "ae304802",
   "metadata": {},
   "outputs": [],
   "source": [
    "def does_assignment_pair_overlap(assignment1, assignment2):\n",
    "    \"\"\" Determine whether or not the assignments overlap each other.\n",
    "    \n",
    "    Args:\n",
    "        assignment1 (list) : A list of two integers, e.g. [2, 4].\n",
    "        assignment2 (list) : A list of two integers, e.g. [6, 8].\n",
    "        \n",
    "    Returns:\n",
    "        True if one is contained in the other, False otherwise.\n",
    "    \"\"\"\n",
    "    if assignment1[1] >= assignment2[0] and assignment1[0] <= assignment2[1]:\n",
    "        result = True\n",
    "    else:\n",
    "        result = False\n",
    "    return result"
   ]
  },
  {
   "cell_type": "code",
   "execution_count": 15,
   "id": "f0bacdf2",
   "metadata": {},
   "outputs": [
    {
     "name": "stdout",
     "output_type": "stream",
     "text": [
      "Count: 865\n"
     ]
    }
   ],
   "source": [
    "count = 0\n",
    "for line in lines:\n",
    "    if does_assignment_pair_overlap(*split_line_to_assignments(line)):\n",
    "        count += 1\n",
    "print(f\"Count: {count}\")"
   ]
  }
 ],
 "metadata": {
  "kernelspec": {
   "display_name": "Python 3 (ipykernel)",
   "language": "python",
   "name": "python3"
  },
  "language_info": {
   "codemirror_mode": {
    "name": "ipython",
    "version": 3
   },
   "file_extension": ".py",
   "mimetype": "text/x-python",
   "name": "python",
   "nbconvert_exporter": "python",
   "pygments_lexer": "ipython3",
   "version": "3.9.13"
  }
 },
 "nbformat": 4,
 "nbformat_minor": 5
}
