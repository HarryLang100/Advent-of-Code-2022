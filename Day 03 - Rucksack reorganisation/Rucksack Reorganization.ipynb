{
 "cells": [
  {
   "cell_type": "markdown",
   "id": "20fd356c",
   "metadata": {},
   "source": [
    "# Day 3: Rucksack Reorganization\n",
    "\n",
    "## Part 1\n",
    "One Elf has the important job of loading all of the rucksacks with supplies for the jungle journey. Unfortunately, that Elf didn't quite follow the packing instructions, and so a few items now need to be rearranged.\n",
    "\n",
    "Each rucksack has two large compartments. All items of a given type are meant to go into exactly one of the two compartments. The Elf that did the packing failed to follow this rule for exactly one item type per rucksack.\n",
    "\n",
    "The Elves have made a list of all of the items currently in each rucksack (your puzzle input), but they need your help finding the errors. Every item type is identified by a single lowercase or uppercase letter (that is, a and A refer to different types of items).\n",
    "\n",
    "The list of items for each rucksack is given as characters all on a single line. A given rucksack always has the same number of items in each of its two compartments, so the first half of the characters represent items in the first compartment, while the second half of the characters represent items in the second compartment.\n",
    "\n",
    "For example, suppose you have the following list of contents from six rucksacks:\n",
    "\n",
    "vJrwpWtwJgWrhcsFMMfFFhFp\\\n",
    "jqHRNqRjqzjGDLGLrsFMfFZSrLrFZsSL\\\n",
    "PmmdzqPrVvPwwTWBwg\\\n",
    "wMqvLMZHhHMvwLHjbvcjnnSBnvTQFn\\\n",
    "ttgJtRGJQctTZtZT\\\n",
    "CrZsJsPPZsGzwwsLwLmpwMDw\n",
    "\n",
    "The first rucksack contains the items vJrwpWtwJgWrhcsFMMfFFhFp, which means its first compartment contains the items vJrwpWtwJgWr, while the second compartment contains the items hcsFMMfFFhFp. The only item type that appears in both compartments is lowercase p.\n",
    "The second rucksack's compartments contain jqHRNqRjqzjGDLGL and rsFMfFZSrLrFZsSL. The only item type that appears in both compartments is uppercase L.\n",
    "The third rucksack's compartments contain PmmdzqPrV and vPwwTWBwg; the only common item type is uppercase P.\n",
    "The fourth rucksack's compartments only share item type v.\n",
    "The fifth rucksack's compartments only share item type t.\n",
    "The sixth rucksack's compartments only share item type s.\n",
    "To help prioritize item rearrangement, every item type can be converted to a priority:\n",
    "\n",
    "Lowercase item types a through z have priorities 1 through 26.\n",
    "Uppercase item types A through Z have priorities 27 through 52.\n",
    "In the above example, the priority of the item type that appears in both compartments of each rucksack is 16 (p), 38 (L), 42 (P), 22 (v), 20 (t), and 19 (s); the sum of these is 157.\n",
    "\n",
    "Find the item type that appears in both compartments of each rucksack. What is the sum of the priorities of those item types?"
   ]
  },
  {
   "cell_type": "code",
   "execution_count": 6,
   "id": "8796afc6",
   "metadata": {},
   "outputs": [],
   "source": [
    "def find_common_item(rucksack_contents):\n",
    "    \"\"\" For the contents of a rucksack, find what item is in both the first and second compartments.\n",
    "    \n",
    "    Args:\n",
    "        rucksack_contents (str) : A string of uppercase and lowercase letters, as explained above.\n",
    "        \n",
    "    Returns:\n",
    "        The common item (e.g. \"a\").\n",
    "    \"\"\"\n",
    "    common_letter = -1\n",
    "    length = len(rucksack_contents)\n",
    "    first_half = rucksack_contents[0:int(length/2)]\n",
    "    second_half = rucksack_contents[int(length/2):int(length)]\n",
    "    for test_letter in first_half:\n",
    "        if test_letter in second_half:\n",
    "            common_letter = test_letter\n",
    "    if common_letter == -1:\n",
    "        raise Exception(\"No common letter found (individual rucksack).\")\n",
    "    return common_letter"
   ]
  },
  {
   "cell_type": "code",
   "execution_count": 7,
   "id": "ad11b276",
   "metadata": {},
   "outputs": [],
   "source": [
    "def get_letter_value(letter):\n",
    "    \"\"\" For a given 'item' (as in, letter), return the priority score for that item.\n",
    "    \n",
    "    Args:\n",
    "        letter (str) \n",
    "        \n",
    "    Returns:\n",
    "        The priority score for that item.\n",
    "    \"\"\"\n",
    "    ascii_code = ord(letter)\n",
    "    if ascii_code in range(97, 123):\n",
    "        letter_value = ascii_code - 96\n",
    "    elif ascii_code in range(65, 91):\n",
    "        letter_value = ascii_code - 38\n",
    "    else:\n",
    "        raise Exception(\"Letter not in alphabet.\")\n",
    "    return letter_value"
   ]
  },
  {
   "cell_type": "code",
   "execution_count": 8,
   "id": "d33ca2f9",
   "metadata": {},
   "outputs": [
    {
     "name": "stdout",
     "output_type": "stream",
     "text": [
      "Priority sum: 8123\n"
     ]
    }
   ],
   "source": [
    "filename = \"input.txt\"\n",
    "with open(filename) as text_file:\n",
    "    lines = text_file.readlines()\n",
    " \n",
    "priority_sum = 0 # This will be used as a running sum.    \n",
    "for rucksack in lines:\n",
    "    common_item = find_common_item(rucksack)\n",
    "    letter_value = get_letter_value(common_item)\n",
    "    priority_sum += letter_value\n",
    "print(f\"Priority sum: {priority_sum}\")"
   ]
  },
  {
   "cell_type": "markdown",
   "id": "11b8a1a2",
   "metadata": {},
   "source": [
    "## Part 2\n",
    "\n",
    "As you finish identifying the misplaced items, the Elves come to you with another issue.\n",
    "\n",
    "For safety, the Elves are divided into groups of three. Every Elf carries a badge that identifies their group. For efficiency, within each group of three Elves, the badge is the only item type carried by all three Elves. That is, if a group's badge is item type B, then all three Elves will have item type B somewhere in their rucksack, and at most two of the Elves will be carrying any other item type.\n",
    "\n",
    "The problem is that someone forgot to put this year's updated authenticity sticker on the badges. All of the badges need to be pulled out of the rucksacks so the new authenticity stickers can be attached.\n",
    "\n",
    "Additionally, nobody wrote down which item type corresponds to each group's badges. The only way to tell which item type is the right one is by finding the one item type that is common between all three Elves in each group.\n",
    "\n",
    "Every set of three lines in your list corresponds to a single group, but each group can have a different badge item type. So, in the above example, the first group's rucksacks are the first three lines:\n",
    "\n",
    "vJrwpWtwJgWrhcsFMMfFFhFp\\\n",
    "jqHRNqRjqzjGDLGLrsFMfFZSrLrFZsSL\\\n",
    "PmmdzqPrVvPwwTWBwg\n",
    "\n",
    "And the second group's rucksacks are the next three lines:\n",
    "\n",
    "wMqvLMZHhHMvwLHjbvcjnnSBnvTQFn\\\n",
    "ttgJtRGJQctTZtZT\\\n",
    "CrZsJsPPZsGzwwsLwLmpwMDw\\\n",
    "\n",
    "In the first group, the only item type that appears in all three rucksacks is lowercase r; this must be their badges. In the second group, their badge item type must be Z.\n",
    "\n",
    "Priorities for these items must still be found to organize the sticker attachment efforts: here, they are 18 (r) for the first group and 52 (Z) for the second group. The sum of these is 70.\n",
    "\n",
    "Find the item type that corresponds to the badges of each three-Elf group. What is the sum of the priorities of those item types?"
   ]
  },
  {
   "cell_type": "code",
   "execution_count": 9,
   "id": "42cfb9f1",
   "metadata": {},
   "outputs": [],
   "source": [
    "def find_group_item(rucksack_1, rucksack_2, rucksack_3):\n",
    "    \"\"\" For three rucksacks, find the single item that is common to all of them.\n",
    "    \n",
    "    Args:\n",
    "        rucksack_1 (str)\n",
    "        rucksack_2 (str)\n",
    "        rucksack_3 (str)\n",
    "        \n",
    "    Returns:\n",
    "        The common item (e.g. \"a\").\n",
    "    \"\"\"\n",
    "\n",
    "    common_item = -1\n",
    "    for item in rucksack_1.strip():\n",
    "        if item in rucksack_2.strip() and item in rucksack_3.strip():\n",
    "            common_item = item\n",
    "    if common_item == -1:\n",
    "        raise Exception(\"No common item found (three rucksacks)\")\n",
    "    return common_item"
   ]
  },
  {
   "cell_type": "code",
   "execution_count": 10,
   "id": "24956789",
   "metadata": {},
   "outputs": [
    {
     "name": "stdout",
     "output_type": "stream",
     "text": [
      "Priority sum: 2620\n"
     ]
    }
   ],
   "source": [
    "priority_sum = 0 # This will be used as a running sum.\n",
    "for line_index in range(0, len(lines), 3):\n",
    "    group_item = find_group_item(\n",
    "        lines[line_index],\n",
    "        lines[line_index+1],\n",
    "        lines[line_index+2]\n",
    "        )\n",
    "    priority_sum += get_letter_value(group_item)\n",
    "print(f\"Priority sum: {priority_sum}\")"
   ]
  }
 ],
 "metadata": {
  "kernelspec": {
   "display_name": "Python 3 (ipykernel)",
   "language": "python",
   "name": "python3"
  },
  "language_info": {
   "codemirror_mode": {
    "name": "ipython",
    "version": 3
   },
   "file_extension": ".py",
   "mimetype": "text/x-python",
   "name": "python",
   "nbconvert_exporter": "python",
   "pygments_lexer": "ipython3",
   "version": "3.9.13"
  }
 },
 "nbformat": 4,
 "nbformat_minor": 5
}
