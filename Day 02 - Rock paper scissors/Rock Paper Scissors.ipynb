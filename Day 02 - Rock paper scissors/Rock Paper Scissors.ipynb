{
 "cells": [
  {
   "cell_type": "markdown",
   "id": "1fab2322",
   "metadata": {},
   "source": [
    "# Day 2: Rock Paper Scissors\n",
    "## Part 1\n",
    "The Elves begin to set up camp on the beach. To decide whose tent gets to be closest to the snack storage, a giant Rock Paper Scissors tournament is already in progress.\n",
    "\n",
    "Rock Paper Scissors is a game between two players. Each game contains many rounds; in each round, the players each simultaneously choose one of Rock, Paper, or Scissors using a hand shape. Then, a winner for that round is selected: Rock defeats Scissors, Scissors defeats Paper, and Paper defeats Rock. If both players choose the same shape, the round instead ends in a draw.\n",
    "\n",
    "Appreciative of your help yesterday, one Elf gives you an encrypted strategy guide (your puzzle input) that they say will be sure to help you win. \"The first column is what your opponent is going to play: A for Rock, B for Paper, and C for Scissors. The second column--\" Suddenly, the Elf is called away to help with someone's tent.\n",
    "\n",
    "The second column, you reason, must be what you should play in response: X for Rock, Y for Paper, and Z for Scissors. Winning every time would be suspicious, so the responses must have been carefully chosen.\n",
    "\n",
    "The winner of the whole tournament is the player with the highest score. Your total score is the sum of your scores for each round. The score for a single round is the score for the shape you selected (1 for Rock, 2 for Paper, and 3 for Scissors) plus the score for the outcome of the round (0 if you lost, 3 if the round was a draw, and 6 if you won).\n",
    "\n",
    "Since you can't be sure if the Elf is trying to help you or trick you, you should calculate the score you would get if you were to follow the strategy guide.\n",
    "\n",
    "For example, suppose you were given the following strategy guide:\n",
    "\n",
    "A Y\\\n",
    "B X\\\n",
    "C Z\n",
    "\n",
    "This strategy guide predicts and recommends the following:\n",
    "\n",
    "In the first round, your opponent will choose Rock (A), and you should choose Paper (Y). This ends in a win for you with a score of 8 (2 because you chose Paper + 6 because you won).\n",
    "In the second round, your opponent will choose Paper (B), and you should choose Rock (X). This ends in a loss for you with a score of 1 (1 + 0).\n",
    "The third round is a draw with both players choosing Scissors, giving you a score of 3 + 3 = 6.\n",
    "In this example, if you were to follow the strategy guide, you would get a total score of 15 (8 + 1 + 6).\n",
    "\n",
    "What would your total score be if everything goes exactly according to your strategy guide?"
   ]
  },
  {
   "cell_type": "code",
   "execution_count": 1,
   "id": "1fb2d8f4",
   "metadata": {},
   "outputs": [],
   "source": [
    "def determine_round_score(opponent_choice, my_choice):\n",
    "    \"\"\" Determine the score for a given round of the game.\n",
    "    \n",
    "    Args:\n",
    "        opponent_choice (str) : Opponent choice. Can be 'A', 'B', or 'C', as described above.\n",
    "        my_choice (str) : My choice. Can be 'X', 'Y', or 'Z', as described above.\n",
    "        \n",
    "    Returns:\n",
    "        My score for the round.\n",
    "    \"\"\"\n",
    "    if opponent_choice=='A' and my_choice == 'X':\n",
    "        round_score = 4\n",
    "    if opponent_choice=='A' and my_choice == 'Y':\n",
    "        round_score = 8\n",
    "    if opponent_choice=='A' and my_choice == 'Z':\n",
    "        round_score = 3\n",
    "    if opponent_choice=='B' and my_choice == 'X':\n",
    "        round_score = 1\n",
    "    if opponent_choice=='B' and my_choice == 'Y':\n",
    "        round_score = 5\n",
    "    if opponent_choice=='B' and my_choice == 'Z':\n",
    "        round_score = 9\n",
    "    if opponent_choice=='C' and my_choice == 'X':\n",
    "        round_score = 7\n",
    "    if opponent_choice=='C' and my_choice == 'Y':\n",
    "        round_score = 2\n",
    "    if opponent_choice=='C' and my_choice == 'Z':\n",
    "        round_score = 6\n",
    "    return round_score"
   ]
  },
  {
   "cell_type": "code",
   "execution_count": 5,
   "id": "5448e6ef",
   "metadata": {},
   "outputs": [
    {
     "name": "stdout",
     "output_type": "stream",
     "text": [
      "Total score: 12156\n"
     ]
    }
   ],
   "source": [
    "running_total_score = 0\n",
    "\n",
    "with open(\"input.txt\") as file:\n",
    "    lines = file.readlines()\n",
    "\n",
    "for current_line in lines:\n",
    "        running_total_score += determine_round_score(current_line[0], current_line[2])\n",
    "print(f\"Total score: {running_total_score}\")"
   ]
  },
  {
   "cell_type": "markdown",
   "id": "e5b1c02d",
   "metadata": {},
   "source": [
    "## Part Two\n",
    "\n",
    "The Elf finishes helping with the tent and sneaks back over to you. \"Anyway, the second column says how the round needs to end: X means you need to lose, Y means you need to end the round in a draw, and Z means you need to win. Good luck!\"\n",
    "\n",
    "The total score is still calculated in the same way, but now you need to figure out what shape to choose so the round ends as indicated. The example above now goes like this:\n",
    "\n",
    "In the first round, your opponent will choose Rock (A), and you need the round to end in a draw (Y), so you also choose Rock. This gives you a score of 1 + 3 = 4.\n",
    "In the second round, your opponent will choose Paper (B), and you choose Rock so you lose (X) with a score of 1 + 0 = 1.\n",
    "In the third round, you will defeat your opponent's Scissors with Rock for a score of 1 + 6 = 7.\n",
    "Now that you're correctly decrypting the ultra top secret strategy guide, you would get a total score of 12.\n",
    "\n",
    "Following the Elf's instructions for the second column, what would your total score be if everything goes exactly according to your strategy guide?"
   ]
  },
  {
   "cell_type": "code",
   "execution_count": 9,
   "id": "ef21e1ed",
   "metadata": {},
   "outputs": [],
   "source": [
    "def make_choice(opponent_choice, requirement_letter):\n",
    "    \"\"\" Determine what I should play in a round, given the opponent's choice and the requirement for the round.\n",
    "    \n",
    "    Args:\n",
    "        opponent_choice (str) : Opponent choice. Can be 'A', 'B', or 'C'.\n",
    "        requirement_letter (str) : How the round needs to end up. 'X', 'Y', or 'Z', as described above.\n",
    "        \n",
    "    Returns:\n",
    "        What I should play for the round.\n",
    "    \"\"\"\n",
    "    if opponent_choice == 'A' and requirement_letter == 'X':\n",
    "        my_choice = 'Z'\n",
    "    if opponent_choice == 'A' and requirement_letter == 'Y': \n",
    "        my_choice = 'X'\n",
    "    if opponent_choice == 'A' and requirement_letter == 'Z': \n",
    "        my_choice = 'Y'\n",
    "    if opponent_choice == 'B' and requirement_letter == 'X': \n",
    "        my_choice = 'X'\n",
    "    if opponent_choice == 'B'and requirement_letter == 'Y': \n",
    "        my_choice = 'Y'\n",
    "    if opponent_choice == 'B' and requirement_letter == 'Z': \n",
    "        my_choice = 'Z'\n",
    "    if opponent_choice == 'C' and requirement_letter == 'X': \n",
    "        my_choice = 'Y'\n",
    "    if opponent_choice == 'C' and requirement_letter == 'Y': \n",
    "        my_choice = 'Z'\n",
    "    if opponent_choice == 'C' and requirement_letter == 'Z': \n",
    "        my_choice = 'X'\n",
    "    return my_choice"
   ]
  },
  {
   "cell_type": "code",
   "execution_count": 12,
   "id": "f5102689",
   "metadata": {},
   "outputs": [
    {
     "name": "stdout",
     "output_type": "stream",
     "text": [
      "Total score: 10835\n"
     ]
    }
   ],
   "source": [
    "running_total_score = 0 \n",
    "with open(\"input.txt\") as file:\n",
    "    lines = file.readlines()\n",
    "    for line in lines:\n",
    "        my_choice = make_choice(line[0], line[2])\n",
    "        running_total_score += determine_round_score(line[0], my_choice)\n",
    "print(f\"Total score: {running_total_score}\")"
   ]
  }
 ],
 "metadata": {
  "kernelspec": {
   "display_name": "Python 3",
   "language": "python",
   "name": "python3"
  },
  "language_info": {
   "codemirror_mode": {
    "name": "ipython",
    "version": 3
   },
   "file_extension": ".py",
   "mimetype": "text/x-python",
   "name": "python",
   "nbconvert_exporter": "python",
   "pygments_lexer": "ipython3",
   "version": "3.8.8"
  }
 },
 "nbformat": 4,
 "nbformat_minor": 5
}
